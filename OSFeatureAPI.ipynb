{
 "cells": [
  {
   "cell_type": "markdown",
   "id": "b1eb953b-67a8-44c4-b7d1-ddf6ecbef89d",
   "metadata": {},
   "source": [
    "# OS Features API "
   ]
  },
  {
   "cell_type": "markdown",
   "id": "a410e28b-72e0-42fe-8d07-317ff91e67a9",
   "metadata": {},
   "source": [
    "This notebook is using some simple packages and tools to select an area of interest and return the features within it from the OS Features API.\n",
    "\n",
    "**Note: There is a known issue when returning Linestring geometry types** "
   ]
  },
  {
   "cell_type": "markdown",
   "id": "4054d73a-bb16-491b-8bba-038a07797f1d",
   "metadata": {},
   "source": [
    "***"
   ]
  },
  {
   "cell_type": "markdown",
   "id": "b60791ce-27a9-426b-83d1-47118e0e1d92",
   "metadata": {},
   "source": [
    "First of all we need to import the packages we need to be able to carry out the function in this notebook. Depending on how you set up your environment you will need install the packages below. Suggested method either using pip or conda."
   ]
  },
  {
   "cell_type": "code",
   "execution_count": 1,
   "id": "af9e4a16-6d1c-4571-8f6d-aa7be8276ea7",
   "metadata": {},
   "outputs": [],
   "source": [
    "from ipyleaflet import Map, basemaps, basemap_to_tiles, DrawControl, WMSLayer,GeoData, LayersControl, WMSLayer,ImageOverlay\n",
    "from shapely.geometry.polygon import Polygon\n",
    "import geopandas as gpd, pandas as pd\n",
    "import requests as r\n",
    "from datetime import datetime\n",
    "from urllib.parse import unquote, urlencode\n",
    "#from owslib.wfs import WebFeatureService as wfs"
   ]
  },
  {
   "cell_type": "markdown",
   "id": "77568f6c-309d-468e-803b-bcb8a2f429e1",
   "metadata": {},
   "source": [
    "This next stage sets out some of the variables that we'll pass to various calls and functions in the rest of the notebook. \n",
    "\n",
    "Please Enter your API key below "
   ]
  },
  {
   "cell_type": "code",
   "execution_count": 2,
   "id": "c987d8b0-07ef-42e8-9d7a-7a236e58d0e0",
   "metadata": {},
   "outputs": [],
   "source": [
    "apikey = #enter API key\n",
    "\n",
    "#The type of request we're making to the API, when called use request[0] where the 0 is the list position of the argument you want\n",
    "request = ['GetFeature','DescribeFeatureType','GetCapabilities']\n",
    "\n",
    "#Standard OS API Call\n",
    "api_url = 'https://api.os.uk/features/v1/wfs?service=wfs&version=2.0.0&request='\n",
    "\n",
    "#The count of feature we want to return, max = 100. \n",
    "count = 100\n",
    "\n",
    "#Spatial function used. Options = Equals, Disjoint, Touches, Within, Overlaps, Crosses, Intersects, and Contains\n",
    "method = 'Within'\n",
    "\n",
    "#This is the max number of features you want to call, the API returns 100 at a time, max should be 60,000 but this is untested currently. \n",
    "max_features = 1000\n",
    "\n",
    "#The layer name you wish to return  ##Future development add a drop down of available layers\n",
    "typeNames = 'Zoomstack_LocalBuildings'#'Highways_RoadNode'#'OpenUPRN_Address'##'Highways_RoadLink'"
   ]
  },
  {
   "cell_type": "markdown",
   "id": "0bf3c75d-8823-4ada-a7ad-db97282100dc",
   "metadata": {},
   "source": [
    "The following section now adds in some of the mapping variables, here you can choose which WMTS you'd like to use. The example uses Light_3857. We also set the style of the box we're about to draw on the map. \n",
    "\n",
    "There is a function defined in this section that records the shape of a bounding box. Once drawn the map will automatically close as its not required until the end again. \n",
    "\n"
   ]
  },
  {
   "cell_type": "code",
   "execution_count": 3,
   "id": "e3f4dd8c-4597-458c-b0f7-f6e54ce10301",
   "metadata": {},
   "outputs": [
    {
     "data": {
      "application/vnd.jupyter.widget-view+json": {
       "model_id": "",
       "version_major": 2,
       "version_minor": 0
      },
      "text/plain": [
       "Map(center=[51.507, -2.105], controls=(ZoomControl(options=['position', 'zoom_in_text', 'zoom_in_title', 'zoom…"
      ]
     },
     "metadata": {},
     "output_type": "display_data"
    }
   ],
   "source": [
    "params = urlencode({'key': apikey,\n",
    "                    'service': 'WMTS',\n",
    "                    'request': 'GetTile',\n",
    "                    'version': '2.0.0',\n",
    "                    'height': 256,\n",
    "                    'width': 256,\n",
    "                    'outputFormat': 'image/png',\n",
    "                    'style': 'default',\n",
    "                    # Example uses Light Style in Web Mercator (EPSG:3857) projection\n",
    "                    'layer': 'Light_3857',\n",
    "                    'tileMatrixSet': 'EPSG:3857',\n",
    "                    'tileMatrix': '{z}',\n",
    "                    'tileRow': '{y}',\n",
    "                    'tileCol': '{x}'})\n",
    "\n",
    "# OS Data Hub base path - https://api.os.uk\n",
    "# OS Maps API WMTS end point path - /maps/raster/v1/wmts?\n",
    "url = unquote(f'https://api.os.uk/maps/raster/v1/wmts?{params}')\n",
    "# Create custom ipyleaflet TileLayer for the OS Maps API WMTS resource\n",
    "os_maps_api = {'url': url,\n",
    "               'min_zoom': 7,\n",
    "               'max_zoom': 20,\n",
    "               'attribution': f'Contains OS data &copy; Crown copyright and database rights {datetime.now().year}'}\n",
    "# OS logo image\n",
    "image = ImageOverlay(url='https://raw.githubusercontent.com/OrdnanceSurvey/os-api-branding/master/img/os-logo-maps.svg',\n",
    "                     bounds=((0.0, 0.0), (20, 10)))\n",
    "# Create ipyleaflet Map\n",
    "m = Map(basemap=os_maps_api,\n",
    "        center=[51.507, -2.105],\n",
    "        zoom=7)\n",
    "\n",
    "# Add image to Map\n",
    "m.add_layer(image)\n",
    "\n",
    "#Apply the draw control function to a variable for ease\n",
    "draw_control = DrawControl()\n",
    "\n",
    "#style of a rectangle for the map\n",
    "draw_control.rectangle = {\n",
    "\"shapeOptions\": {\n",
    "\"fillColor\": \"#efed69\",\n",
    "\"color\": \"#efed69\",\n",
    "\"fillOpacity\": 0.5}}\n",
    "\n",
    "#Add the draaw control to the map \n",
    "m.add_control(draw_control)\n",
    "\n",
    "#Create an empty GeoDataFrame for the funtion to store the bounding box\n",
    "poly_union = gpd.GeoDataFrame()\n",
    "\n",
    "#Create handle_draw function which carries out actions after drawing a shape on the map. \n",
    "def handle_draw(self, action, geo_json):\n",
    "    global poly_union\n",
    "    my_poly=draw_control.last_draw['geometry']['coordinates'][0]\n",
    "    geom = Polygon(my_poly)\n",
    "    print(geom)\n",
    "    poli= gpd.GeoDataFrame(geometry=[geom])\n",
    "    poly_union=pd.concat([poly_union,poli],sort=False)\n",
    "    poly_union = poly_union.set_crs(\"EPSG:4326\")\n",
    "    poly_union = poly_union.to_crs(\"EPSG:27700\")\n",
    "    m.close()\n",
    "\n",
    "#on draw on the map call the function\n",
    "draw_control.on_draw(handle_draw)\n",
    "\n",
    "#draw the map\n",
    "m\n"
   ]
  },
  {
   "cell_type": "markdown",
   "id": "83e17383-8c51-4e39-99ee-f95d8a9b10b7",
   "metadata": {},
   "source": [
    "Now we've defined our area of interest we can run the API for the variables dictated in earlier sections"
   ]
  },
  {
   "cell_type": "code",
   "execution_count": 6,
   "id": "6dc65e43-112b-42f4-af70-71bb54e10f4e",
   "metadata": {},
   "outputs": [],
   "source": [
    "#assign bounds to variables\n",
    "bx = poly_union.bounds['minx']\n",
    "by = poly_union.bounds['miny']\n",
    "tx = poly_union.bounds['maxx']\n",
    "ty = poly_union.bounds['maxy']\n",
    "\n",
    "#create a list of startIndex's\n",
    "startIndex = list(range(0, max_features, 100))\n",
    "\n",
    "#Create empty dataframe for api results\n",
    "api_data = gpd.GeoDataFrame()\n",
    "\n",
    "#Run api loop to return features as disctated by variables\n",
    "for index in startIndex:\n",
    "    url = f'{api_url}{request[0]}&typeNames={typeNames}&count={count}&key={apikey}&outputFormat=GeoJSON&startIndex={index}&filter=<ogc:Filter><ogc:{method}><gml:Box%20srsName=\"EPSG:27700\"><gml:coordinates%20decimal=\".\"%20cs=\",\"%20ts=\",\">{bx[0]},{by[0]},{tx[0]},{ty[0]}</gml:coordinates></gml:Box></ogc:Within></ogc:Filter>'\n",
    "    data = r.get(url)\n",
    "    json = data.json()\n",
    "    gdf = gpd.GeoDataFrame.from_features(json['features'])\n",
    "    api_data = api_data.append(gdf)\n",
    "    \n",
    "#set crs and reproject\n",
    "api_data = api_data.set_crs(\"EPSG:27700\")\n",
    "repro = api_data.to_crs(\"EPSG:4326\") "
   ]
  },
  {
   "cell_type": "markdown",
   "id": "69d09486-3d70-4edb-a0f4-5ef3ace99fec",
   "metadata": {},
   "source": [
    "In this final stage we add the data from the API call to a map and display\n",
    "\n",
    "We could add in a section here that just copies the dataframe to a database using geopandas.to_postgis (would rely on setting up a SQLAlchemy engine)"
   ]
  },
  {
   "cell_type": "code",
   "execution_count": 9,
   "id": "4f5c6aa3-6c1a-4d7f-b0a3-a89827674734",
   "metadata": {},
   "outputs": [],
   "source": [
    "geo_data = GeoData(geo_dataframe = repro,\n",
    "                  name = typeNames)\n",
    "m2 = Map(basemap=os_maps_api,\n",
    "    center=[51.507, -2.105],\n",
    "    zoom=7)\n",
    "\n",
    "m2.add_layer(geo_data)\n",
    "m2.add_control(LayersControl())\n",
    "m2"
   ]
  },
  {
   "cell_type": "code",
   "execution_count": 10,
   "id": "adad7781-97ee-4537-a6fd-adc4f8a0ba9f",
   "metadata": {},
   "outputs": [],
   "source": []
  }
 ],
 "metadata": {
  "kernelspec": {
   "display_name": "Python 3",
   "language": "python",
   "name": "python3"
  },
  "language_info": {
   "codemirror_mode": {
    "name": "ipython",
    "version": 3
   },
   "file_extension": ".py",
   "mimetype": "text/x-python",
   "name": "python",
   "nbconvert_exporter": "python",
   "pygments_lexer": "ipython3",
   "version": "3.9.5"
  }
 },
 "nbformat": 4,
 "nbformat_minor": 5
}
